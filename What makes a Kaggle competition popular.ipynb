{
 "cells": [
  {
   "cell_type": "markdown",
   "metadata": {},
   "source": [
    "# What makes a Kaggle competition popular?"
   ]
  },
  {
   "cell_type": "markdown",
   "metadata": {},
   "source": [
    "The code first takes a simple copy-paste of Kaggle's competition page and transform it into a clean, usable dataframe (Part I: Data cleaning and preparation). It then uses gradient boosted decision trees as a machine learning model (Part II: Machine Learning). Finally, using feature importance, characteristics of popular Kaggle competitions are revealed (Part III: Results)."
   ]
  },
  {
   "cell_type": "markdown",
   "metadata": {},
   "source": [
    "## Part I: Data cleaning and preparation"
   ]
  },
  {
   "cell_type": "markdown",
   "metadata": {},
   "source": [
    "All data is contained within a text file. It is a copy-paste of Kaggle's competition page (1) that abides by Kaggle restrictions on web scraping (2). The following cells show how the text is cleaned and processed into a dataframe ready to be used for machine learning.\n",
    "\n",
    "*(1) https://www.kaggle.com/competitions?sortBy=recentlyCreated&group=general&page=1&pageSize=20, accessed 14/08/2019*<br>\n",
    "*(2) https://www.kaggle.com/terms, accessed 14/08/2019*"
   ]
  },
  {
   "cell_type": "markdown",
   "metadata": {},
   "source": [
    "First, let's read in the text file and remove any formatting, header and footer."
   ]
  },
  {
   "cell_type": "code",
   "execution_count": 1,
   "metadata": {
    "collapsed": false
   },
   "outputs": [
    {
     "name": "stdout",
     "output_type": "stream",
     "text": [
      "\n",
      "Sample:\n"
     ]
    },
    {
     "data": {
      "text/plain": [
       "['Ciphertext Challenge III',\n",
       " 'Ciphertext Challenge III',\n",
       " 'BRBTvl0LNstxQLyxulCEEq1czSFje0Z6iajczo6ktGmitTE=',\n",
       " 'Playground',\n",
       " '22 days to go',\n",
       " ' poetry, text data',\n",
       " 'Swag',\n",
       " '49 teams',\n",
       " 'Severstal: Steel Defect Detection',\n",
       " 'Severstal: Steel Defect Detection',\n",
       " 'Can you detect and classify defects in steel?',\n",
       " 'Featured',\n",
       " 'Kernels CompetitionSubmission is through Kaggle Kernels.Learn more.',\n",
       " '2 months to go',\n",
       " ' image data, manufacturing',\n",
       " '$120,000',\n",
       " '540 teams']"
      ]
     },
     "execution_count": 1,
     "metadata": {},
     "output_type": "execute_result"
    }
   ],
   "source": [
    "# READ DATA\n",
    "with open('kaggle_competitions.txt') as f: # open .txt file\n",
    "    doc = f.readlines() # read .txt line by line\n",
    "\n",
    "# CLEAN DATA\n",
    "doc = [line.rstrip('\\n') for line in doc] # remove trailing \\n for each string\n",
    "doc = [i for i in doc if i] # remove empty strings\n",
    "\n",
    "# REMOVE HEADER AND FOOTER\n",
    "start_index = [index for index, string in enumerate(doc) if 'Ciphertext Challenge III' in string][0] # identify start index\n",
    "end_index = [index for index, string in enumerate(doc) if 'No more competitions to show' in string][0] # identify end index\n",
    "doc = doc[start_index:end_index] # remove header and footer\n",
    "\n",
    "print('\\nSample:') # print 'Sample:'\n",
    "doc[:17] # show sample"
   ]
  },
  {
   "cell_type": "markdown",
   "metadata": {},
   "source": [
    "Next, the dataset is split by competition and saved in a dictionary."
   ]
  },
  {
   "cell_type": "code",
   "execution_count": 2,
   "metadata": {
    "collapsed": false,
    "scrolled": true
   },
   "outputs": [
    {
     "name": "stdout",
     "output_type": "stream",
     "text": [
      "\n",
      "Sample:\n"
     ]
    },
    {
     "data": {
      "text/plain": [
       "['A synchronous Kernels-only competition',\n",
       " 'Featured',\n",
       " 1,\n",
       " '2 months ago',\n",
       " 'tabular data, binary classification',\n",
       " '$5,000',\n",
       " '1,832 teams']"
      ]
     },
     "execution_count": 2,
     "metadata": {},
     "output_type": "execute_result"
    }
   ],
   "source": [
    "# IDENTIFY COMPETITION SUBSET BOUNDARIES\n",
    "i = 0 # create variable to iterate over using 'while'\n",
    "boundary_indices = [] # create empty list \n",
    "\n",
    "while i < len(doc): # while the end of document is not reached, proceed\n",
    "    if doc[i].find('teams') > 0: # if keyword 'teams' is found\n",
    "        temp_index = i+1 # store index of string within list +1\n",
    "        boundary_indices.append(temp_index) # apprend it to boundary_indices list\n",
    "    if i>10 and i-temp_index > 10: # if there are more than 10 strings between the last 'teams' found and the current string\n",
    "        for j in range(i-6, i): # going back 6 strings\n",
    "            prize_keywords = ['€', '$', 'Jobs', 'Knowledge', 'Kudos', 'Swag', 'USD'] # using a list of prize-related keywords\n",
    "            if any(keyword in doc[j] for keyword in prize_keywords): # where found\n",
    "                temp_index = j+1 # store index of string containing prize information +1\n",
    "                boundary_indices.append(temp_index) # append it to boundary_indices list\n",
    "    i +=1 # proceed to next iteration\n",
    "\n",
    "# EXTRACT COMPETITION FEATURES FROM EACH SUBSET\n",
    "competitions = {} # create empty dictionary\n",
    "\n",
    "for i in range(len(boundary_indices)): # for boundary indices identified\n",
    "    if i == 0: # at first iteration\n",
    "        subset = doc[:boundary_indices[i]] # start from 0 to the first boundary index\n",
    "    else: # then\n",
    "        subset = doc[boundary_indices[i-1]:boundary_indices[i]] # from boundary index to the next\n",
    "        \n",
    "    temp_competition = subset[0] # competition name is the first element\n",
    "    temp_summary = subset[2] # summary is the third element\n",
    "    temp_category = subset[3] # category is the fourth element\n",
    "    \n",
    "    temp_kernel = 0 # kernel is by default 0 (i.e. is the competition a kernel competition)\n",
    "    temp_timeline = '' # create empty string\n",
    "    temp_tags = '' # create empty string\n",
    "    temp_prize = '' # create empty string\n",
    "    temp_teams = '' # create empty string\n",
    "    \n",
    "    for j in range(len(subset)): # for length of subset\n",
    "        if 'Kernels Competition' in subset[j]: # if competition is a Kernels Competition\n",
    "            temp_kernel = 1 # kernel equals 1\n",
    "        if any(keyword in subset[j] for keyword in ['ago', 'Ongoing', 'to go']): # if timeline keyword found in subset\n",
    "            temp_timeline = subset[j] # update timeline value \n",
    "            index_timeline = j # take note of timeline index\n",
    "        if j==len(subset)-1 and any(keyword in subset[int(index_timeline)+1] for keyword in ['€', '$', 'Jobs', 'Knowledge', 'Kudos', 'Swag', 'USD']) == False:\n",
    "            # if penultimate string does not contain prize information\n",
    "            temp_tags = subset[int(index_timeline)+1] # store as tags\n",
    "        if any(keyword in subset[j] for keyword in ['€', '$', 'Jobs', 'Knowledge', 'Kudos', 'Swag', 'USD']): # if prize keyword found\n",
    "            temp_prize = subset[j] # update prize value\n",
    "        if any(keyword in subset[j] for keyword in ['teams']): # if teams appear\n",
    "            temp_teams = subset[j] # update teams value\n",
    "    \n",
    "    competitions[temp_competition.strip()] = [temp_summary.strip(),\n",
    "                                              temp_category.strip(),\n",
    "                                              temp_kernel,\n",
    "                                              temp_timeline.strip(),\n",
    "                                              temp_tags.strip(),\n",
    "                                              temp_prize.strip(),\n",
    "                                              temp_teams.strip()\n",
    "                                             ] # store values within a dictionary entry\n",
    "\n",
    "print('\\nSample:') # print 'Sample:'\n",
    "competitions['Instant Gratification'] # show sample"
   ]
  },
  {
   "cell_type": "markdown",
   "metadata": {},
   "source": [
    "In turn, the dictionary is transformed into a dataframe."
   ]
  },
  {
   "cell_type": "code",
   "execution_count": 3,
   "metadata": {
    "collapsed": false
   },
   "outputs": [
    {
     "name": "stdout",
     "output_type": "stream",
     "text": [
      "\n",
      "Sample:\n"
     ]
    },
    {
     "data": {
      "text/html": [
       "<div>\n",
       "<style scoped>\n",
       "    .dataframe tbody tr th:only-of-type {\n",
       "        vertical-align: middle;\n",
       "    }\n",
       "\n",
       "    .dataframe tbody tr th {\n",
       "        vertical-align: top;\n",
       "    }\n",
       "\n",
       "    .dataframe thead th {\n",
       "        text-align: right;\n",
       "    }\n",
       "</style>\n",
       "<table border=\"1\" class=\"dataframe\">\n",
       "  <thead>\n",
       "    <tr style=\"text-align: right;\">\n",
       "      <th></th>\n",
       "      <th>competition</th>\n",
       "      <th>summary</th>\n",
       "      <th>category</th>\n",
       "      <th>is_kernel</th>\n",
       "      <th>timeline</th>\n",
       "      <th>tags</th>\n",
       "      <th>prize</th>\n",
       "      <th>teams</th>\n",
       "    </tr>\n",
       "  </thead>\n",
       "  <tbody>\n",
       "    <tr>\n",
       "      <th>0</th>\n",
       "      <td>Instant Gratification</td>\n",
       "      <td>A synchronous Kernels-only competition</td>\n",
       "      <td>Featured</td>\n",
       "      <td>1</td>\n",
       "      <td>2 months ago</td>\n",
       "      <td>tabular data, binary classification</td>\n",
       "      <td>$5,000</td>\n",
       "      <td>1,832 teams</td>\n",
       "    </tr>\n",
       "  </tbody>\n",
       "</table>\n",
       "</div>"
      ],
      "text/plain": [
       "             competition                                 summary  category  \\\n",
       "0  Instant Gratification  A synchronous Kernels-only competition  Featured   \n",
       "\n",
       "  is_kernel      timeline                                 tags   prize  \\\n",
       "0         1  2 months ago  tabular data, binary classification  $5,000   \n",
       "\n",
       "         teams  \n",
       "0  1,832 teams  "
      ]
     },
     "execution_count": 3,
     "metadata": {},
     "output_type": "execute_result"
    }
   ],
   "source": [
    "# CREATE DATAFRAME\n",
    "import pandas as pd # import data manipulation and analysis library\n",
    "df = pd.DataFrame(competitions).transpose() # create dataframe from dictionary\n",
    "df = df.reset_index() # reset index\n",
    "df.columns = ['competition', 'summary', 'category', 'is_kernel', 'timeline', 'tags', 'prize', 'teams'] # name columns\n",
    "df = df[df.teams!=''] # remove competitions with no information on number of teams participating\n",
    "df = df[df['timeline'].str.contains('ago')] # remove active competitions\n",
    "df.reset_index(inplace=True, drop=True) # reset index\n",
    "\n",
    "print('\\nSample:') # print 'Sample:'\n",
    "df.head(1) # show sample"
   ]
  },
  {
   "cell_type": "markdown",
   "metadata": {},
   "source": [
    "To be able to use text-based features in the model, the text first needs to be simplified. The goal is to avoid slightly different words referring to the same concept. For instance, 'Predict' and 'predict' can be lowercased to avoid this situation."
   ]
  },
  {
   "cell_type": "code",
   "execution_count": 4,
   "metadata": {
    "collapsed": false
   },
   "outputs": [
    {
     "name": "stdout",
     "output_type": "stream",
     "text": [
      "\n",
      "Sample:\n"
     ]
    },
    {
     "data": {
      "text/html": [
       "<div>\n",
       "<style scoped>\n",
       "    .dataframe tbody tr th:only-of-type {\n",
       "        vertical-align: middle;\n",
       "    }\n",
       "\n",
       "    .dataframe tbody tr th {\n",
       "        vertical-align: top;\n",
       "    }\n",
       "\n",
       "    .dataframe thead th {\n",
       "        text-align: right;\n",
       "    }\n",
       "</style>\n",
       "<table border=\"1\" class=\"dataframe\">\n",
       "  <thead>\n",
       "    <tr style=\"text-align: right;\">\n",
       "      <th></th>\n",
       "      <th>competition</th>\n",
       "      <th>summary</th>\n",
       "      <th>category</th>\n",
       "      <th>is_kernel</th>\n",
       "      <th>timeline</th>\n",
       "      <th>tags</th>\n",
       "      <th>prize</th>\n",
       "      <th>teams</th>\n",
       "      <th>competition_clean</th>\n",
       "      <th>summary_clean</th>\n",
       "    </tr>\n",
       "  </thead>\n",
       "  <tbody>\n",
       "    <tr>\n",
       "      <th>0</th>\n",
       "      <td>Instant Gratification</td>\n",
       "      <td>A synchronous Kernels-only competition</td>\n",
       "      <td>Featured</td>\n",
       "      <td>1</td>\n",
       "      <td>2 months ago</td>\n",
       "      <td>tabular data, binary classification</td>\n",
       "      <td>$5,000</td>\n",
       "      <td>1,832 teams</td>\n",
       "      <td>instant gratification</td>\n",
       "      <td>synchronous kernel  competition</td>\n",
       "    </tr>\n",
       "  </tbody>\n",
       "</table>\n",
       "</div>"
      ],
      "text/plain": [
       "             competition                                 summary  category  \\\n",
       "0  Instant Gratification  A synchronous Kernels-only competition  Featured   \n",
       "\n",
       "  is_kernel      timeline                                 tags   prize  \\\n",
       "0         1  2 months ago  tabular data, binary classification  $5,000   \n",
       "\n",
       "         teams      competition_clean                     summary_clean  \n",
       "0  1,832 teams  instant gratification   synchronous kernel  competition  "
      ]
     },
     "execution_count": 4,
     "metadata": {},
     "output_type": "execute_result"
    }
   ],
   "source": [
    "# PREPROCESS STRINGS\n",
    "import re # import regular expression library\n",
    "import spacy # import natural language processing library\n",
    "\n",
    "nlp = spacy.load('en_core_web_sm') # load spacy vocabulary\n",
    "\n",
    "columns = ['competition', 'summary'] # store names of columns to be processed\n",
    "\n",
    "for column in columns: # for each column to be processed\n",
    "    \n",
    "    temp_vals = [] # create empty list\n",
    "\n",
    "    for element in df[column]: # for each row of each column to be processed\n",
    "\n",
    "        temp = element # create temp object containing string value\n",
    "        temp = temp.lower() # lowercase string\n",
    "        temp = re.sub(r'[^a-zA-Z\\s]', ' ', temp) # remove numbers and punctuation\n",
    "        \n",
    "        temp = nlp(temp) # process string through spacy\n",
    "        temp_lemmas = [] # create empty list\n",
    "\n",
    "        for i in range(len(temp)): # for each token\n",
    "            if nlp.vocab[str(temp[i])].is_stop or nlp.vocab[temp[i].lemma_].is_stop: # if token or its lemma is a stop word\n",
    "                temp_lemmas.append('') # append empty string\n",
    "            else: # otherwise, if token or its lemma is not a stop word\n",
    "                temp_lemmas.append(temp[i].lemma_) # add lemma to temporary object\n",
    "\n",
    "        temp = ' '.join(temp_lemmas) # reform string from lemmas\n",
    "        temp_vals.append(temp) # append string to temp_vals list\n",
    "    \n",
    "    temp_column_name = column+'_clean' # create new column name \n",
    "    df[temp_column_name] = temp_vals # create new columns and fill it with clean strings\n",
    "\n",
    "print('\\nSample:') # print 'Sample:'\n",
    "df.head(1) # show sample"
   ]
  },
  {
   "cell_type": "markdown",
   "metadata": {},
   "source": [
    "Moreover, the prize column consists of both pure text (e.g. 'Knowledge') and text and figures (e.g. '$5,000') and needs to be reformatted."
   ]
  },
  {
   "cell_type": "code",
   "execution_count": 5,
   "metadata": {
    "collapsed": false
   },
   "outputs": [
    {
     "name": "stdout",
     "output_type": "stream",
     "text": [
      "\n",
      "Sample:\n"
     ]
    },
    {
     "data": {
      "text/html": [
       "<div>\n",
       "<style scoped>\n",
       "    .dataframe tbody tr th:only-of-type {\n",
       "        vertical-align: middle;\n",
       "    }\n",
       "\n",
       "    .dataframe tbody tr th {\n",
       "        vertical-align: top;\n",
       "    }\n",
       "\n",
       "    .dataframe thead th {\n",
       "        text-align: right;\n",
       "    }\n",
       "</style>\n",
       "<table border=\"1\" class=\"dataframe\">\n",
       "  <thead>\n",
       "    <tr style=\"text-align: right;\">\n",
       "      <th></th>\n",
       "      <th>competition</th>\n",
       "      <th>summary</th>\n",
       "      <th>category</th>\n",
       "      <th>is_kernel</th>\n",
       "      <th>timeline</th>\n",
       "      <th>tags</th>\n",
       "      <th>prize</th>\n",
       "      <th>teams</th>\n",
       "      <th>competition_clean</th>\n",
       "      <th>summary_clean</th>\n",
       "      <th>dollar_prize</th>\n",
       "      <th>other_prize</th>\n",
       "    </tr>\n",
       "  </thead>\n",
       "  <tbody>\n",
       "    <tr>\n",
       "      <th>0</th>\n",
       "      <td>Instant Gratification</td>\n",
       "      <td>A synchronous Kernels-only competition</td>\n",
       "      <td>Featured</td>\n",
       "      <td>1</td>\n",
       "      <td>2 months ago</td>\n",
       "      <td>tabular data, binary classification</td>\n",
       "      <td>$5,000</td>\n",
       "      <td>1,832 teams</td>\n",
       "      <td>instant gratification</td>\n",
       "      <td>synchronous kernel  competition</td>\n",
       "      <td>5000</td>\n",
       "      <td></td>\n",
       "    </tr>\n",
       "  </tbody>\n",
       "</table>\n",
       "</div>"
      ],
      "text/plain": [
       "             competition                                 summary  category  \\\n",
       "0  Instant Gratification  A synchronous Kernels-only competition  Featured   \n",
       "\n",
       "  is_kernel      timeline                                 tags   prize  \\\n",
       "0         1  2 months ago  tabular data, binary classification  $5,000   \n",
       "\n",
       "         teams      competition_clean                     summary_clean  \\\n",
       "0  1,832 teams  instant gratification   synchronous kernel  competition   \n",
       "\n",
       "   dollar_prize other_prize  \n",
       "0          5000              "
      ]
     },
     "execution_count": 5,
     "metadata": {},
     "output_type": "execute_result"
    }
   ],
   "source": [
    "# CREATE A DOLLAR_PRIZE AND OTHER_PRIZE COLUMNS\n",
    "dollar_prize = [] # create empty list\n",
    "other_prize = [] # create empty list\n",
    "\n",
    "for item in df.prize: # for row in prize column\n",
    "    \n",
    "    temp = item.replace(',', '') # remove commas\n",
    "    \n",
    "    if temp[0] == '$': # if prize is in $\n",
    "        dollar_prize_temp = int(temp.replace('$', '')) # dollar figure\n",
    "        other_prize_temp = '' # empty string\n",
    "        \n",
    "    if temp[0] == '€': # if prize is in € \n",
    "        dollar_prize_temp = int(int(temp.replace('€', ''))*1.11)  # convert to $ using 16/08/2019, 15:45 UTC rate of exchange\n",
    "        other_prize_temp = '' # empty string\n",
    "        \n",
    "    if temp[0] != '$' and temp[0] != '€': # if prize is not in $ or €\n",
    "        dollar_prize_temp = 0 # 0 as dollar figure\n",
    "        other_prize_temp = temp # string\n",
    "        \n",
    "    dollar_prize.append(dollar_prize_temp) # append dollar figure\n",
    "    other_prize.append(other_prize_temp) # append string\n",
    "\n",
    "df['dollar_prize'] = dollar_prize # create column\n",
    "df['other_prize'] = other_prize # create column\n",
    "\n",
    "print('\\nSample:') # print 'Sample:'\n",
    "df.head(1) # show sample"
   ]
  },
  {
   "cell_type": "markdown",
   "metadata": {},
   "source": [
    "To be used by machine learning, all text needs to be encoded as numbers. Here, each unique word within each column is identified. Then, a separate column is created for each word. At each row, a value indicates the absence (0) or presence (1) of the token in the original column."
   ]
  },
  {
   "cell_type": "code",
   "execution_count": 6,
   "metadata": {
    "collapsed": false
   },
   "outputs": [
    {
     "name": "stdout",
     "output_type": "stream",
     "text": [
      "\n",
      "Sample:\n"
     ]
    },
    {
     "data": {
      "text/html": [
       "<div>\n",
       "<style scoped>\n",
       "    .dataframe tbody tr th:only-of-type {\n",
       "        vertical-align: middle;\n",
       "    }\n",
       "\n",
       "    .dataframe tbody tr th {\n",
       "        vertical-align: top;\n",
       "    }\n",
       "\n",
       "    .dataframe thead th {\n",
       "        text-align: right;\n",
       "    }\n",
       "</style>\n",
       "<table border=\"1\" class=\"dataframe\">\n",
       "  <thead>\n",
       "    <tr style=\"text-align: right;\">\n",
       "      <th></th>\n",
       "      <th>competition</th>\n",
       "      <th>summary</th>\n",
       "      <th>category</th>\n",
       "      <th>is_kernel</th>\n",
       "      <th>timeline</th>\n",
       "      <th>tags</th>\n",
       "      <th>prize</th>\n",
       "      <th>teams</th>\n",
       "      <th>competition_clean</th>\n",
       "      <th>summary_clean</th>\n",
       "      <th>...</th>\n",
       "      <th>tags_medicine</th>\n",
       "      <th>tags_ecology</th>\n",
       "      <th>tags_crowdfunding</th>\n",
       "      <th>tags_automobiles</th>\n",
       "      <th>tags_painting</th>\n",
       "      <th>other_prize_USD</th>\n",
       "      <th>other_prize_Jobs</th>\n",
       "      <th>other_prize_Knowledge</th>\n",
       "      <th>other_prize_Kudos</th>\n",
       "      <th>other_prize_Swag</th>\n",
       "    </tr>\n",
       "  </thead>\n",
       "  <tbody>\n",
       "    <tr>\n",
       "      <th>0</th>\n",
       "      <td>Instant Gratification</td>\n",
       "      <td>A synchronous Kernels-only competition</td>\n",
       "      <td>Featured</td>\n",
       "      <td>1</td>\n",
       "      <td>2 months ago</td>\n",
       "      <td>tabular data, binary classification</td>\n",
       "      <td>$5,000</td>\n",
       "      <td>1,832 teams</td>\n",
       "      <td>instant gratification</td>\n",
       "      <td>synchronous kernel  competition</td>\n",
       "      <td>...</td>\n",
       "      <td>0</td>\n",
       "      <td>0</td>\n",
       "      <td>0</td>\n",
       "      <td>0</td>\n",
       "      <td>0</td>\n",
       "      <td>0</td>\n",
       "      <td>0</td>\n",
       "      <td>0</td>\n",
       "      <td>0</td>\n",
       "      <td>0</td>\n",
       "    </tr>\n",
       "  </tbody>\n",
       "</table>\n",
       "<p>1 rows × 1791 columns</p>\n",
       "</div>"
      ],
      "text/plain": [
       "             competition                                 summary  category  \\\n",
       "0  Instant Gratification  A synchronous Kernels-only competition  Featured   \n",
       "\n",
       "  is_kernel      timeline                                 tags   prize  \\\n",
       "0         1  2 months ago  tabular data, binary classification  $5,000   \n",
       "\n",
       "         teams      competition_clean                     summary_clean  ...  \\\n",
       "0  1,832 teams  instant gratification   synchronous kernel  competition  ...   \n",
       "\n",
       "   tags_medicine tags_ecology  tags_crowdfunding  tags_automobiles  \\\n",
       "0              0            0                  0                 0   \n",
       "\n",
       "   tags_painting  other_prize_USD  other_prize_Jobs  other_prize_Knowledge  \\\n",
       "0              0                0                 0                      0   \n",
       "\n",
       "   other_prize_Kudos  other_prize_Swag  \n",
       "0                  0                 0  \n",
       "\n",
       "[1 rows x 1791 columns]"
      ]
     },
     "execution_count": 6,
     "metadata": {},
     "output_type": "execute_result"
    }
   ],
   "source": [
    "string_columns = ['competition_clean', 'summary_clean', 'category', 'tags', 'other_prize'] # list of relevant columns\n",
    "\n",
    "for column in string_columns: # for each relevant column\n",
    "    \n",
    "    if column == 'tags': # if column name is tags\n",
    "        separator = ',' # then values are separated by commas\n",
    "    \n",
    "    else: # otherwise\n",
    "        separator = ' ' # values are separated by blank spaces\n",
    "        \n",
    "    # CREATE VOCABULARY OF UNIQUE TOKENS\n",
    "    temp = df[column].str.split(separator, expand=True) # create a temporary object holding tokens in separate columns\n",
    "    temp_vocab = [] # create a temporary vocabulary holder\n",
    "\n",
    "    for i in temp.columns: # loop over columns\n",
    "        temp_vocab.append([item for item in temp[i].unique()]) # append unique column vocabulary to temporary vocabulary holder\n",
    "\n",
    "    temp_vocab = [item for sublist in temp_vocab for item in sublist] # flatten list of lists\n",
    "    temp_vocab = list(set(temp_vocab)) # deduplicate tokens present in multiple columns\n",
    "    temp_vocab = [item for item in temp_vocab if item] # remove None values and empty strings\n",
    "    temp_vocab = [item.strip() for item in temp_vocab] # remove whitespaces\n",
    "    \n",
    "    # CREATE BINARY COLUMNS\n",
    "    for token in temp_vocab: # for unique token found in original column\n",
    "        \n",
    "        temp_binary = [] # create empty list\n",
    "\n",
    "        for value in df[column]: # for each row\n",
    "            if token in [i.strip() for i in value.split(separator)]: # if token is found\n",
    "                temp_binary.append(1) # append 1\n",
    "            else: # otherwise\n",
    "                temp_binary.append(0) # append 0\n",
    "        \n",
    "        if len(token) > 1: # if token is more than 1 character long\n",
    "            binary_column_name = column.replace('_clean', '')+'_'+token # create column name\n",
    "            df[binary_column_name] = temp_binary # create column and fill it with 0 (absence) or 1 (presence) at each row\n",
    "\n",
    "print('\\nSample:') # print 'Sample:'\n",
    "df.head(1) # show sample"
   ]
  },
  {
   "cell_type": "markdown",
   "metadata": {},
   "source": [
    "Finally, remaining string features – e.g. '1,832 teams' – are transformed into integers – e.g. 1832."
   ]
  },
  {
   "cell_type": "code",
   "execution_count": 7,
   "metadata": {
    "collapsed": false
   },
   "outputs": [
    {
     "name": "stdout",
     "output_type": "stream",
     "text": [
      "\n",
      "Sample:\n"
     ]
    },
    {
     "data": {
      "text/html": [
       "<div>\n",
       "<style scoped>\n",
       "    .dataframe tbody tr th:only-of-type {\n",
       "        vertical-align: middle;\n",
       "    }\n",
       "\n",
       "    .dataframe tbody tr th {\n",
       "        vertical-align: top;\n",
       "    }\n",
       "\n",
       "    .dataframe thead th {\n",
       "        text-align: right;\n",
       "    }\n",
       "</style>\n",
       "<table border=\"1\" class=\"dataframe\">\n",
       "  <thead>\n",
       "    <tr style=\"text-align: right;\">\n",
       "      <th></th>\n",
       "      <th>competition</th>\n",
       "      <th>summary</th>\n",
       "      <th>category</th>\n",
       "      <th>is_kernel</th>\n",
       "      <th>timeline</th>\n",
       "      <th>tags</th>\n",
       "      <th>prize</th>\n",
       "      <th>teams</th>\n",
       "      <th>competition_clean</th>\n",
       "      <th>summary_clean</th>\n",
       "      <th>...</th>\n",
       "      <th>tags_ecology</th>\n",
       "      <th>tags_crowdfunding</th>\n",
       "      <th>tags_automobiles</th>\n",
       "      <th>tags_painting</th>\n",
       "      <th>other_prize_USD</th>\n",
       "      <th>other_prize_Jobs</th>\n",
       "      <th>other_prize_Knowledge</th>\n",
       "      <th>other_prize_Kudos</th>\n",
       "      <th>other_prize_Swag</th>\n",
       "      <th>years_ago</th>\n",
       "    </tr>\n",
       "  </thead>\n",
       "  <tbody>\n",
       "    <tr>\n",
       "      <th>0</th>\n",
       "      <td>Instant Gratification</td>\n",
       "      <td>A synchronous Kernels-only competition</td>\n",
       "      <td>Featured</td>\n",
       "      <td>1</td>\n",
       "      <td>2 months ago</td>\n",
       "      <td>tabular data, binary classification</td>\n",
       "      <td>$5,000</td>\n",
       "      <td>1832</td>\n",
       "      <td>instant gratification</td>\n",
       "      <td>synchronous kernel  competition</td>\n",
       "      <td>...</td>\n",
       "      <td>0</td>\n",
       "      <td>0</td>\n",
       "      <td>0</td>\n",
       "      <td>0</td>\n",
       "      <td>0</td>\n",
       "      <td>0</td>\n",
       "      <td>0</td>\n",
       "      <td>0</td>\n",
       "      <td>0</td>\n",
       "      <td>0</td>\n",
       "    </tr>\n",
       "  </tbody>\n",
       "</table>\n",
       "<p>1 rows × 1792 columns</p>\n",
       "</div>"
      ],
      "text/plain": [
       "             competition                                 summary  category  \\\n",
       "0  Instant Gratification  A synchronous Kernels-only competition  Featured   \n",
       "\n",
       "  is_kernel      timeline                                 tags   prize  teams  \\\n",
       "0         1  2 months ago  tabular data, binary classification  $5,000   1832   \n",
       "\n",
       "       competition_clean                     summary_clean  ...  tags_ecology  \\\n",
       "0  instant gratification   synchronous kernel  competition  ...             0   \n",
       "\n",
       "  tags_crowdfunding  tags_automobiles  tags_painting  other_prize_USD  \\\n",
       "0                 0                 0              0                0   \n",
       "\n",
       "   other_prize_Jobs  other_prize_Knowledge  other_prize_Kudos  \\\n",
       "0                 0                      0                  0   \n",
       "\n",
       "   other_prize_Swag  years_ago  \n",
       "0                 0          0  \n",
       "\n",
       "[1 rows x 1792 columns]"
      ]
     },
     "execution_count": 7,
     "metadata": {},
     "output_type": "execute_result"
    }
   ],
   "source": [
    "# CONVERT TIMELINE FEATURE TO INTEGER\n",
    "temp = [] # create temporary list\n",
    "\n",
    "for i in range(len(df.timeline)): # for each row in timeline column\n",
    "    if 'a month' in df.timeline[i] or 'months' in df.timeline[i] or 'days' in df.timeline[i]: # if timeline within a year\n",
    "        temp.append(0) # append 0\n",
    "    else: # otherwise\n",
    "        if df.timeline[i][0] == 'a': # if timeline starts with 'a'\n",
    "            temp.append(1) # append 1\n",
    "        else: # if it does not\n",
    "            temp.append(int(df.timeline[i][0])) # append n years ago as integer\n",
    "\n",
    "df['years_ago'] = temp # create column\n",
    "\n",
    "# CONVERT TEAMS FEATURE TO INTEGER\n",
    "df.teams = [i.rstrip(' teams') for i in df.teams] # remove trailing ' teams'\n",
    "df.teams = [i.replace(',', '') for i in df.teams] # remove any ',' character representing thousands\n",
    "df.teams = [int(i) for i in df.teams] # convert to int\n",
    "\n",
    "print('\\nSample:') # print 'Sample:'\n",
    "df.head(1) # show sample"
   ]
  },
  {
   "cell_type": "markdown",
   "metadata": {},
   "source": [
    "The dataframe is now ready to be used by a machine learning model."
   ]
  },
  {
   "cell_type": "markdown",
   "metadata": {},
   "source": [
    "## Part II: Machine Learning"
   ]
  },
  {
   "cell_type": "code",
   "execution_count": 8,
   "metadata": {
    "collapsed": false
   },
   "outputs": [
    {
     "data": {
      "image/png": "[encoded data removed]",
      "text/plain": [
       "<Figure size 432x288 with 1 Axes>"
      ]
     },
     "metadata": {
      "needs_background": "light"
     },
     "output_type": "display_data"
    }
   ],
   "source": [
    "# CREATE A LABEL COLUMN\n",
    "df['label'] = df['teams'] # create label column from teams column\n",
    "df.loc[df['label']<df.teams.quantile(0.8), 'label'] = 0 # if participation is regular (bottom 80% competitions), label as 0\n",
    "df.loc[df['label']>df.teams.quantile(0.8), 'label'] = 1 # if participation is high (top 20% competitions), label as 1\n",
    "\n",
    "# VISUALISE \n",
    "%matplotlib inline\n",
    "# use matplotlib inline\n",
    "import matplotlib.pyplot as plt # import plotting library\n",
    "\n",
    "regular = df.teams[df.teams<1489] # create dataset of bottom 80% competitions\n",
    "popular = df.teams[df.teams>1489] # create dataset of top 20% competitions\n",
    "bins = [i for i in range(0, 9001, 500)] # create bins\n",
    "bins[3] = 1489 # update 1500 as 1489, which in turn will sightly change the width and height of bars between 1000 and 2000 below \n",
    "\n",
    "plt.hist(regular, bins, label='regular') # plot histogram\n",
    "plt.hist(popular, bins, label='popular') # plot histogram\n",
    "\n",
    "plt.legend(loc='upper right') # set legend\n",
    "plt.title('Histogram of competing teams\\n') # set title\n",
    "plt.xlabel('\\nCompeting teams') # set x label\n",
    "plt.ylabel('Competitions\\n') # set y label\n",
    "plt.show() # show histogram"
   ]
  },
  {
   "cell_type": "markdown",
   "metadata": {},
   "source": [
    "Using the dataframe, a machine learning model will attempt to predict one of two possible classes:\n",
    "<br>-> 0 (bottom 80% competitions, with less than 1489 competing teams, referred to as 'regular')\n",
    "<br>-> 1 (top 20% competitions, with more than 1489 competing teams, referred to as 'popular')"
   ]
  },
  {
   "cell_type": "code",
   "execution_count": 9,
   "metadata": {
    "collapsed": false,
    "scrolled": true
   },
   "outputs": [
    {
     "name": "stdout",
     "output_type": "stream",
     "text": [
      "\n",
      "Accuracy: 0.90625\n",
      "Shape of dataframe: (320, 1793)\n",
      "\n",
      "Confusion matrix:\n",
      "                 predicted regular  predicted popular\n",
      "actual regular                 22                  2\n",
      "actual popular                  1                  7\n"
     ]
    }
   ],
   "source": [
    "from sklearn import metrics # import machine learning metrics from sklearn library\n",
    "from sklearn.model_selection import train_test_split # import cross validation method from sklearn library\n",
    "import xgboost as xgb # import gradient boosted decision trees library\n",
    "\n",
    "X = df.loc[:, df.columns!='teams'].select_dtypes(exclude=['object']) # select dataframe except string columns and teams\n",
    "X = X.loc[:, X.columns!='label'] # exclude label column\n",
    "y = df['label'] # retain label column as y\n",
    "\n",
    "X_train, X_test, y_train, y_test = train_test_split(X, # split X\n",
    "                                                    y, # and y\n",
    "                                                    test_size=.1, # with 90% training, 10% testing\n",
    "                                                    random_state=0) # and a random state to be able reproduce results\n",
    "\n",
    "clf = xgb.XGBClassifier(n_estimators=500, # 500 trees\n",
    "                        n_jobs=4, # allow for parallel threading\n",
    "                        max_depth=9, # control size of trees\n",
    "                        learning_rate=0.05) # set learning rate\n",
    "clf.fit(X_train, y_train) # fit classifier\n",
    "\n",
    "# PREDICT\n",
    "predictions = clf.predict(X_test) # predict\n",
    "\n",
    "# PRINT METRICS\n",
    "print('\\nAccuracy:', metrics.accuracy_score(y_test, predictions)) # print accuracy\n",
    "print('Shape of dataframe:', df.shape) # print (number of rows, number of columns)\n",
    "cm = pd.DataFrame(metrics.confusion_matrix(y_test, predictions), # prepare confusion matrix as dataframe\n",
    "                  index=['actual regular','actual popular'], # with relevant row names\n",
    "                  columns=['predicted regular','predicted popular']) # and column names\n",
    "print('\\nConfusion matrix:\\n', cm) # print confusion matrix"
   ]
  },
  {
   "cell_type": "markdown",
   "metadata": {},
   "source": [
    "The machine learning model used here is an XGBoost classifier. It implements gradient boosted decision trees and among other things, returns feature importance.\n",
    "\n",
    "Despite the low number of records (320 rows) and high-dimensionality (1793 columns) of the dataset, it achieves about 90% accuracy on test data.\n",
    "\n",
    "In the next part of the notebook, I will use what the model has learned – what features it found informative – as a way to explore Kagglers' motivations and determine what makes a Kaggle competition popular."
   ]
  },
  {
   "cell_type": "markdown",
   "metadata": {},
   "source": [
    "## Part III: Results"
   ]
  },
  {
   "cell_type": "markdown",
   "metadata": {},
   "source": [
    "## (a) Feature importance"
   ]
  },
  {
   "cell_type": "code",
   "execution_count": 10,
   "metadata": {
    "collapsed": false
   },
   "outputs": [
    {
     "data": {
      "image/png": "[encoded data removed]",
      "text/plain": [
       "<Figure size 720x252 with 1 Axes>"
      ]
     },
     "metadata": {
      "needs_background": "light"
     },
     "output_type": "display_data"
    }
   ],
   "source": [
    "# SAVE FEATURE IMPORTANCE (TOTAL GAIN) AS DATAFRAME\n",
    "results = clf.get_booster().get_score(importance_type='total_gain') # store feature importance key-values\n",
    "results = pd.DataFrame(results.items()) # convert to dataframe\n",
    "results.columns = ['feature', 'importance'] # rename columns\n",
    "results.sort_values(['importance'], ascending=False, inplace=True) # sort values\n",
    "results.reset_index(inplace=True, drop=True) # reset index\n",
    "\n",
    "grouped_results = {} # create empty dictionary\n",
    "\n",
    "grouped_results['competition'] = results[results.feature.str.contains('competition_')]['importance'].sum() # group importance\n",
    "grouped_results['summary'] = results[results.feature.str.contains('summary_')]['importance'].sum() # group importance\n",
    "grouped_results['category'] = results[results.feature.str.contains('category_')]['importance'].sum() # group importance\n",
    "grouped_results['tags'] = results[results.feature.str.contains('tags_')]['importance'].sum() # group importance\n",
    "grouped_results['prize'] = results[results.feature.str.contains('prize')]['importance'].sum() # group importance\n",
    "\n",
    "grouped_results = pd.DataFrame(list(grouped_results.items())) # convert dictionary to dataframe\n",
    "grouped_results.columns = ['Grouped features', 'Grouped importance'] # rename columns\n",
    "grouped_results.sort_values('Grouped importance', inplace=True) # sort values\n",
    "grouped_results.set_index('Grouped features', inplace=True) # set feature group as index\n",
    "\n",
    "ax = grouped_results.plot(kind='barh', stacked=False, figsize=(10, 3.5), color='forestgreen') # plot grouped results\n",
    "ax.set_ylabel('Feature group\\n') # set y label\n",
    "plt.xlabel('\\nF score') # set x label\n",
    "plt.title('\\nFeature importance\\n') # set title\n",
    "plt.show() # show horizontal bar chart"
   ]
  },
  {
   "cell_type": "markdown",
   "metadata": {},
   "source": [
    "Here, feature importance represents how frequent and informative features are across all decision trees.\n",
    "\n",
    "Overall, the popularity of competitions is most associated with the prize to be won. Then come keywords within tags, summary, competition name and the category of the competition.\n",
    "\n",
    "Let's explore each one by one."
   ]
  },
  {
   "cell_type": "markdown",
   "metadata": {},
   "source": [
    "## (b) Prizes"
   ]
  },
  {
   "cell_type": "code",
   "execution_count": 11,
   "metadata": {
    "collapsed": false
   },
   "outputs": [
    {
     "data": {
      "image/png": "[encoded data removed]",
      "text/plain": [
       "<Figure size 432x288 with 1 Axes>"
      ]
     },
     "metadata": {
      "needs_background": "light"
     },
     "output_type": "display_data"
    }
   ],
   "source": [
    "# VISUALISE AVERAGE DOLLAR PRIZE ACROSS CLASSES\n",
    "sub_results = df[['label', 'dollar_prize']].groupby('label').mean() # group dollar prize information by label\n",
    "plt.bar([0,1], sub_results['dollar_prize'], color=['#1f77b4', '#ff7f0e']) # create bar chart\n",
    "plt.xticks([0,1], ['regular', 'popular']) # set x ticks\n",
    "plt.title('\\nAverage dollar prize\\n') # set title\n",
    "plt.xlabel('\\nClass') # set x label\n",
    "plt.ylabel('Average prize (in $)\\n') # set y label\n",
    "plt.show() # show bar chart"
   ]
  },
  {
   "cell_type": "markdown",
   "metadata": {},
   "source": [
    "The first motivational factor seems to be the dollar prize.\n",
    "\n",
    "On average, competitions offer a cash prize of \\$32,357.\n",
    "\n",
    "Bottom 80% competitions offer a \\$23,083 prize on average, versus $69,453 for top 20% competitions.\n",
    "\n",
    "However, money itself might not be the motivation of many Kagglers. A high-value cash prize can also indicate how challenging a problem is – i.e. how much can be learned – or how much an organisation values its resolution – i.e. how valuable a Kaggler's new skills may be."
   ]
  },
  {
   "cell_type": "code",
   "execution_count": 12,
   "metadata": {
    "collapsed": false
   },
   "outputs": [
    {
     "data": {
      "image/png": "[encoded data removed]",
      "text/plain": [
       "<Figure size 720x360 with 1 Axes>"
      ]
     },
     "metadata": {
      "needs_background": "light"
     },
     "output_type": "display_data"
    }
   ],
   "source": [
    "# VISUALISE COMPETITIONS WITH AND WITHOUT DOLLAR PRIZES ACROSS CLASSES\n",
    "z_r = len(df[(df['dollar_prize']==0) & (df.label==0)]) # count of $0 prize regular competitions\n",
    "z_p = len(df[(df['dollar_prize']==0) & (df.label==1)]) # count of $0 prize popular competitions\n",
    "d_r = len(df[(df['dollar_prize']>0) & (df.label==0)]) # count of $n prize regular competitions\n",
    "d_p = len(df[(df['dollar_prize']>0) & (df.label==1)]) # count of $n prize popular competitions\n",
    "\n",
    "data = {'regular': [z_r, d_r], 'popular': [z_p, d_p]} # create dictionary\n",
    "viz_df = pd.DataFrame(data, index=pd.Index(['No dollar prize','Dollar Prize'], name='\\nPrize')) # create dataframe\n",
    "\n",
    "ax = viz_df.plot(kind='bar', stacked=False, figsize=(10, 5)) # plot bar chart\n",
    "ax.set_ylabel('Competitions\\n') # set y label\n",
    "plt.xticks(rotation=0) # set x tick rotation\n",
    "plt.title('\\nCompetitions with and without dollar prizes\\n') # set title\n",
    "plt.show() # show bar chart"
   ]
  },
  {
   "cell_type": "markdown",
   "metadata": {},
   "source": [
    "Competitions with dollar prizes are more likely to be popular than those offering other prizes."
   ]
  },
  {
   "cell_type": "code",
   "execution_count": 13,
   "metadata": {
    "collapsed": false
   },
   "outputs": [
    {
     "data": {
      "image/png": "[encoded data removed]",
      "text/plain": [
       "<Figure size 720x360 with 1 Axes>"
      ]
     },
     "metadata": {
      "needs_background": "light"
     },
     "output_type": "display_data"
    }
   ],
   "source": [
    "# VISUALISE BINNED DOLLAR PRIZES ACROSS CLASSES\n",
    "viz_df = df[['dollar_prize','label']] # create subset\n",
    "\n",
    "regular = [] # create empty list\n",
    "popular = [] # create empty list\n",
    "\n",
    "for i, j in [(1,49999), (50000,99999), (100000, 1500000)]: # for each bin between amount and amount\n",
    "    subset_viz_df = viz_df[(viz_df['dollar_prize']>=i) & (viz_df['dollar_prize']<=j)] # subset data\n",
    "    count_regular = len(subset_viz_df[subset_viz_df['label']==0]) # count of regular competitions\n",
    "    count_popular = len(subset_viz_df[subset_viz_df['label']==1]) # count of popular competitions\n",
    "    \n",
    "    regular.append(count_regular/(count_regular+count_popular)*100.0) # append % of regular competitions\n",
    "    popular.append(count_popular/(count_regular+count_popular)*100.0) # append % of popular competitions\n",
    "    \n",
    "data = {'regular': regular, 'popular': popular} # create dictionary\n",
    "viz_df = pd.DataFrame(data, index=pd.Index(['less than $49K', '\\$50K to $100K', 'more than $100K'], name='\\nDollar prize'))\n",
    "# create dataframe\n",
    "\n",
    "ax = viz_df.plot(kind='bar', stacked=True, figsize=(10, 5)) # create stacked bar chart\n",
    "ax.set_ylabel('Competitions %\\n') # set y label\n",
    "plt.xticks(rotation=0) # set x tick rotation\n",
    "plt.title('Dollar prizes\\n') # set title\n",
    "plt.show() # show stacked bar chart"
   ]
  },
  {
   "cell_type": "markdown",
   "metadata": {},
   "source": [
    "In addition, the dollar amount matters, with competitions offering higher amounts typically attracting more teams."
   ]
  },
  {
   "cell_type": "code",
   "execution_count": 14,
   "metadata": {
    "collapsed": false
   },
   "outputs": [
    {
     "data": {
      "image/png": "[encoded data removed]",
      "text/plain": [
       "<Figure size 720x360 with 1 Axes>"
      ]
     },
     "metadata": {
      "needs_background": "light"
     },
     "output_type": "display_data"
    }
   ],
   "source": [
    "# DEFINE VISUALISATION FUNCTION\n",
    "def visualise(keyword, title, x_label, x_ticks_rotation): # define function names and parameters\n",
    "\n",
    "    features = [i for i in results[results.feature.str.contains(keyword)]['feature']] # subset based on keyword\n",
    "    feature_index, feature_regular, feature_popular = [], [], [] # create empty lists\n",
    "\n",
    "    for i in features: # for each feature\n",
    "        feature_index.append(i[len(keyword):]) # store name\n",
    "        feature_regular.append(len(df[(df[i]==1) & (df.label==0)])) # store count of regular competitions\n",
    "        feature_popular.append(len(df[(df[i]==1) & (df.label==1)])) # store count of popular competitions\n",
    "\n",
    "    data = {'regular': feature_regular, 'popular': feature_popular} # create dictionary\n",
    "    viz_df = pd.DataFrame(data, index=pd.Index(feature_index, name=x_label)) # create dataframe\n",
    "\n",
    "    ax = viz_df.plot(kind='bar', stacked=False, figsize=(10, 5)) # create stacked bar chart\n",
    "    ax.set_ylabel('Competitions\\n') # set y label\n",
    "    plt.xticks(rotation=x_ticks_rotation) # set x tick rotation\n",
    "    plt.title(title) # set title\n",
    "    plt.show() # show stacked bar chart\n",
    "\n",
    "visualise(keyword='other_prize_', title='\\nOther prizes\\n', x_label='\\nPrize', x_ticks_rotation=0) # call function"
   ]
  },
  {
   "cell_type": "markdown",
   "metadata": {},
   "source": [
    "Finally, competitions with non-cash prizes prove less popular."
   ]
  },
  {
   "cell_type": "markdown",
   "metadata": {},
   "source": [
    "## (c) Tags"
   ]
  },
  {
   "cell_type": "code",
   "execution_count": 15,
   "metadata": {
    "collapsed": false
   },
   "outputs": [
    {
     "data": {
      "image/png": "[encoded data removed]",
      "text/plain": [
       "<Figure size 720x360 with 1 Axes>"
      ]
     },
     "metadata": {
      "needs_background": "light"
     },
     "output_type": "display_data"
    }
   ],
   "source": [
    "visualise(keyword='tags_', title='\\nTags\\n', x_label='\\nTag', x_ticks_rotation=50) # call function"
   ]
  },
  {
   "cell_type": "markdown",
   "metadata": {},
   "source": [
    "Here, we see competitions related to banking and regression prove particularly popular. Tabular data, binary classification and future prediction tags also do well."
   ]
  },
  {
   "cell_type": "markdown",
   "metadata": {},
   "source": [
    "## (d) Summary"
   ]
  },
  {
   "cell_type": "code",
   "execution_count": 16,
   "metadata": {
    "collapsed": false
   },
   "outputs": [
    {
     "data": {
      "image/png": "[encoded data removed]",
      "text/plain": [
       "<Figure size 720x360 with 1 Axes>"
      ]
     },
     "metadata": {
      "needs_background": "light"
     },
     "output_type": "display_data"
    }
   ],
   "source": [
    "visualise(keyword='summary_', title='\\nSummary keywords\\n', x_label='\\nKeyword', x_ticks_rotation=50) # call function"
   ]
  },
  {
   "cell_type": "markdown",
   "metadata": {},
   "source": [
    "Summaries with keywords 'category', 'detect', 'customer', 'product', 'classify', 'use', 'improve', 'ad' and 'question' within the summary tend to be more popular."
   ]
  },
  {
   "cell_type": "markdown",
   "metadata": {},
   "source": [
    "## (e) Competition names"
   ]
  },
  {
   "cell_type": "code",
   "execution_count": 17,
   "metadata": {
    "collapsed": false
   },
   "outputs": [
    {
     "data": {
      "image/png": "[encoded data removed]",
      "text/plain": [
       "<Figure size 720x360 with 1 Axes>"
      ]
     },
     "metadata": {
      "needs_background": "light"
     },
     "output_type": "display_data"
    }
   ],
   "source": [
    "visualise(keyword='competition_', title='\\nCompetition name keywords\\n', x_label='\\nKeyword', x_ticks_rotation=0) # call function"
   ]
  },
  {
   "cell_type": "markdown",
   "metadata": {},
   "source": [
    "Within competition names, the keywords 'prediction' and 'classification' are associated with a higher proportion of popular competitions."
   ]
  },
  {
   "cell_type": "markdown",
   "metadata": {},
   "source": [
    "## (f) Category"
   ]
  },
  {
   "cell_type": "code",
   "execution_count": 18,
   "metadata": {
    "collapsed": false
   },
   "outputs": [
    {
     "data": {
      "image/png": "[encoded data removed]",
      "text/plain": [
       "<Figure size 720x360 with 1 Axes>"
      ]
     },
     "metadata": {
      "needs_background": "light"
     },
     "output_type": "display_data"
    }
   ],
   "source": [
    "visualise(keyword='category_', title='\\nCategories\\n', x_label='\\nCategory', x_ticks_rotation=0) # call function"
   ]
  },
  {
   "cell_type": "markdown",
   "metadata": {},
   "source": [
    "Finally, competitions categorised as 'Featured' are most popular."
   ]
  },
  {
   "cell_type": "markdown",
   "metadata": {},
   "source": [
    "## (g) Conclusion"
   ]
  },
  {
   "cell_type": "markdown",
   "metadata": {},
   "source": [
    "To sum up, a popular Kaggle competition, among the top 20% most attended, is likely to:\n",
    "<br>-> offer an above-average dollar prize\n",
    "<br>-> feature tags such as 'banking', 'regression', 'tabular data', 'binary classification' or 'future prediction'\n",
    "<br>-> have the keywords 'category', 'detect', 'customer', 'product', 'classify', 'use', 'improve', 'ad' or 'question' in the competition summary\n",
    "<br>-> have the keywords 'prediction' or 'classification' in the competition name\n",
    "<br>-> be categorised by Kaggle as 'Featured'"
   ]
  }
 ],
 "metadata": {
  "anaconda-cloud": {},
  "kernelspec": {
   "display_name": "Python [conda env:env_3.7]",
   "language": "python",
   "name": "conda-env-env_3.7-py"
  },
  "language_info": {
   "codemirror_mode": {
    "name": "ipython",
    "version": 3
   },
   "file_extension": ".py",
   "mimetype": "text/x-python",
   "name": "python",
   "nbconvert_exporter": "python",
   "pygments_lexer": "ipython3",
   "version": "3.7.3"
  }
 },
 "nbformat": 4,
 "nbformat_minor": 1
}
